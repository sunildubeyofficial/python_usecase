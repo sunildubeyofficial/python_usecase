{
 "cells": [
  {
   "cell_type": "markdown",
   "id": "95a06a0f",
   "metadata": {},
   "source": [
    "## digital clock "
   ]
  },
  {
   "cell_type": "code",
   "execution_count": null,
   "id": "0b92b0cb",
   "metadata": {},
   "outputs": [],
   "source": [
    "import time\n",
    "from tkinter import *\n",
    "canvas = Tk()\n",
    "canvas.title(\"Digital Clock\")\n",
    "canvas.geometry(\"260x118\")\n",
    "canvas.resizable(1,1)\n",
    "label = Label(canvas, font=(\"Arial\", 30, 'bold'), bg=\"green\", fg=\"white\", bd =40)\n",
    "label.grid(row =0, column=1)\n",
    "def digitalclock():\n",
    "   text_input = time.strftime(\"%H:%M:%S\")\n",
    "   label.config(text=text_input)\n",
    "   label.after(200, digitalclock)\n",
    "digitalclock()\n",
    "canvas.mainloop()"
   ]
  },
  {
   "cell_type": "code",
   "execution_count": null,
   "id": "6f5f9694",
   "metadata": {},
   "outputs": [],
   "source": []
  }
 ],
 "metadata": {
  "kernelspec": {
   "display_name": "Python 3 (ipykernel)",
   "language": "python",
   "name": "python3"
  },
  "language_info": {
   "codemirror_mode": {
    "name": "ipython",
    "version": 3
   },
   "file_extension": ".py",
   "mimetype": "text/x-python",
   "name": "python",
   "nbconvert_exporter": "python",
   "pygments_lexer": "ipython3",
   "version": "3.9.12"
  }
 },
 "nbformat": 4,
 "nbformat_minor": 5
}
